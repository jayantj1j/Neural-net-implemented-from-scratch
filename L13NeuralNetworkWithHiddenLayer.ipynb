{
 "cells": [
  {
   "cell_type": "code",
   "execution_count": 1,
   "metadata": {},
   "outputs": [],
   "source": [
    "import numpy as np"
   ]
  },
  {
   "cell_type": "code",
   "execution_count": 2,
   "metadata": {},
   "outputs": [],
   "source": [
    "def sig(z):\n",
    "    return 1/(1 + np.exp(-z))"
   ]
  },
  {
   "cell_type": "code",
   "execution_count": 3,
   "metadata": {},
   "outputs": [],
   "source": [
    "def derSig(z):\n",
    "    return sig(z)* (1 - sig(z))"
   ]
  },
  {
   "cell_type": "code",
   "execution_count": 4,
   "metadata": {},
   "outputs": [
    {
     "data": {
      "text/plain": [
       "((4, 2), (4, 1))"
      ]
     },
     "execution_count": 4,
     "metadata": {},
     "output_type": "execute_result"
    }
   ],
   "source": [
    "X = np.array([[0,0], [0,1], [1,0], [1,1]])\n",
    "Y = np.array([[0,1,1,0]]).T\n",
    "X.shape, Y.shape"
   ]
  },
  {
   "cell_type": "code",
   "execution_count": 5,
   "metadata": {},
   "outputs": [],
   "source": [
    "wh = 2 * np.random.random((2, 2)) - 1\n",
    "wout = 2 * np.random.random((2, 1)) - 1\n",
    "bh = 2 * np.random.random((1,2)) - 1\n",
    "bout = 2 * np.random.random((1,1)) - 1\n"
   ]
  },
  {
   "cell_type": "code",
   "execution_count": 20,
   "metadata": {},
   "outputs": [
    {
     "name": "stdout",
     "output_type": "stream",
     "text": [
      "[[0.01267342]\n",
      " [0.98904385]\n",
      " [0.98910116]\n",
      " [0.0114127 ]]\n"
     ]
    }
   ],
   "source": [
    "def forward(x, wh, wout, bh, bout):\n",
    "    output0 = x\n",
    "    hidden_layer_input = np.dot(output0, wh) + bh\n",
    "    hidden_layer_output = sig(hidden_layer_input)\n",
    "    \n",
    "    output_layer_input = np.dot(hidden_layer_output, wout) + bout\n",
    "    final_output = sig(output_layer_input)\n",
    "    return final_output\n",
    "\n",
    "\n"
   ]
  },
  {
   "cell_type": "code",
   "execution_count": 25,
   "metadata": {},
   "outputs": [],
   "source": [
    "def train(x, y, wh, wout, bh, bout, epochs, lr):\n",
    "    for i in range(epochs):\n",
    "        output0 = x\n",
    "        hidden_layer_input = np.dot(output0, wh) + bh\n",
    "        hidden_layer_output = sig(hidden_layer_input)\n",
    "    \n",
    "        output_layer_input = np.dot(hidden_layer_output, wout) + bout\n",
    "        final_output = sig(output_layer_input)\n",
    "        \n",
    "        first_term_output = final_output - y\n",
    "        second_term_output = derSig(output_layer_input)\n",
    "        first_two_output = first_term_output*second_term_output\n",
    "        \n",
    "        first_term_hidden_layer = np.dot(first_two_output, wout.T)#why mult\n",
    "        second_term_hidden_layer = derSig(hidden_layer_input)\n",
    "        first_two_hidden = first_term_hidden_layer*second_term_hidden_layer\n",
    "        \n",
    "        \n",
    "        changes_wh = np.dot(output0.T, first_two_hidden)\n",
    "        changes_wout = np.dot(hidden_layer_output.T, first_two_output)\n",
    "        \n",
    "        changes_bh = np.sum(first_two_hidden, axis = 0)\n",
    "        change_bout = np.sum(first_two_output, axis = 0)\n",
    "        \n",
    "        wh = wh - lr*changes_wh\n",
    "        wout = wout - lr*changes_wout\n",
    "        bout = bout - lr*change_bout\n",
    "        bh = bh - lr * changes_bh\n",
    "        \n",
    "    return wh, wout, bh, bout\n",
    "\n",
    "\n"
   ]
  },
  {
   "cell_type": "code",
   "execution_count": 8,
   "metadata": {},
   "outputs": [],
   "source": [
    "wh, wout, bh, bout = train(X, Y, wh, wout,bh, bout, 10000, 1)"
   ]
  },
  {
   "cell_type": "code",
   "execution_count": 13,
   "metadata": {},
   "outputs": [
    {
     "name": "stdout",
     "output_type": "stream",
     "text": [
      "(4, 1) (4, 1) (4, 2)\n"
     ]
    },
    {
     "data": {
      "text/plain": [
       "array([[0.01267342],\n",
       "       [0.98904385],\n",
       "       [0.98910116],\n",
       "       [0.0114127 ]])"
      ]
     },
     "execution_count": 13,
     "metadata": {},
     "output_type": "execute_result"
    }
   ],
   "source": [
    "forward(X, wh, wout, bh, bout)"
   ]
  },
  {
   "cell_type": "code",
   "execution_count": 15,
   "metadata": {},
   "outputs": [
    {
     "data": {
      "text/plain": [
       "(array([[10.18839026],\n",
       "        [10.07747191]]), array([[-5.01208089]]))"
      ]
     },
     "execution_count": 15,
     "metadata": {},
     "output_type": "execute_result"
    }
   ],
   "source": [
    "wout,bout"
   ]
  },
  {
   "cell_type": "code",
   "execution_count": 16,
   "metadata": {},
   "outputs": [
    {
     "data": {
      "text/plain": [
       "(array([[-6.15309994,  6.36774276],\n",
       "        [ 5.92599467, -6.49375866]]), array([[-3.27853352, -3.53113425]]))"
      ]
     },
     "execution_count": 16,
     "metadata": {},
     "output_type": "execute_result"
    }
   ],
   "source": [
    "wh, bh"
   ]
  },
  {
   "cell_type": "code",
   "execution_count": 28,
   "metadata": {},
   "outputs": [
    {
     "data": {
      "text/plain": [
       "(array([[5, 7, 9]]), (1, 3))"
      ]
     },
     "execution_count": 28,
     "metadata": {},
     "output_type": "execute_result"
    }
   ],
   "source": [
    "a = np.array([[1,2,3],[4,5,6]])\n",
    "b = np.sum(a, axis = 0, keepdims=True)\n",
    "b,b.shape\n"
   ]
  }
 ],
 "metadata": {
  "anaconda-cloud": {},
  "kernelspec": {
   "display_name": "Python 3",
   "language": "python",
   "name": "python3"
  },
  "language_info": {
   "codemirror_mode": {
    "name": "ipython",
    "version": 3
   },
   "file_extension": ".py",
   "mimetype": "text/x-python",
   "name": "python",
   "nbconvert_exporter": "python",
   "pygments_lexer": "ipython3",
   "version": "3.6.5"
  }
 },
 "nbformat": 4,
 "nbformat_minor": 1
}
